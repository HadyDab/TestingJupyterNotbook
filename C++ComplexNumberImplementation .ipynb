{
 "cells": [
  {
   "cell_type": "markdown",
   "metadata": {},
   "source": [
    "# Implementation of a complex number with c++ ."
   ]
  },
  {
   "cell_type": "code",
   "execution_count": 1,
   "metadata": {},
   "outputs": [],
   "source": [
    "#include <iostream>\n",
    "#include <cmath>\n",
    "\n",
    "using namespace std;\n",
    "\n",
    "class mycomplex {\n",
    "private:\n",
    "    double re, im;  // represent the real and imaginary part of a complex number\n",
    "\n",
    "public:\n",
    "\n",
    "    // constr uct complex from two scalar s\n",
    "    mycomplex (double r,double i) : re{r}, im{i} {}\n",
    "    // constr uct complex from one scalar\n",
    "    mycomplex (double r) : re{r}, im{0} {}\n",
    "    // default complex: {0,0}\n",
    "    mycomplex () : re{0},im{0} {}\n",
    "\n",
    "    double real() {\n",
    "        return re;\n",
    "    }\n",
    "\n",
    "    double imag0() {\n",
    "        return im;\n",
    "    }\n",
    "\n",
    "    void real(double r) {\n",
    "        re = r;\n",
    "    }\n",
    "\n",
    "    void imag0(double i) {\n",
    "        im = i;\n",
    "    }\n",
    "\n",
    "    mycomplex operator+=(mycomplex z) {\n",
    "        return {re += z.re, im += z.im};\n",
    "    }\n",
    "\n",
    "    mycomplex operator-=(mycomplex z) {\n",
    "        return {re -= z.re, im -= z.im};\n",
    "    }\n",
    "\n",
    "    mycomplex operator*=(mycomplex z) {\n",
    "        double  real = (re*z.re -  im* z.im);\n",
    "        double imag0 = (re*z.im + z.re*im);\n",
    "        return {real,imag0};\n",
    "    }\n",
    "\n",
    "    mycomplex operator/=(mycomplex z) {\n",
    "        double  real = (re * z.re + im * z.im) /(z.re * z.re + z.im * z.im);\n",
    "        double  img0 = (im * z.re - re * z.im)/(z.re * z.re + z.im * z.im);\n",
    "        return {real,img0};\n",
    "    }\n",
    "\n",
    "\n",
    "    void printComplexNumper(){\n",
    "        string sign ;\n",
    "\n",
    "        if(im < 0) {\n",
    "            sign = \"-\";\n",
    "        }else{\n",
    "            sign = \"+\";\n",
    "        }\n",
    "        cout << re  << sign << im << \"i\" << endl;\n",
    "    }\n",
    "    \n",
    "    \n",
    "    \n",
    "\n",
    "};"
   ]
  },
  {
   "cell_type": "markdown",
   "metadata": {},
   "source": [
    "**Using c++ operator We define some useful operations**"
   ]
  },
  {
   "cell_type": "code",
   "execution_count": 2,
   "metadata": {},
   "outputs": [
    {
     "name": "stderr",
     "output_type": "stream",
     "text": [
      "Using raw input\n"
     ]
    }
   ],
   "source": [
    ".rawInput"
   ]
  },
  {
   "cell_type": "code",
   "execution_count": 3,
   "metadata": {},
   "outputs": [],
   "source": [
    "mycomplex operator+(mycomplex a, mycomplex b){\n",
    "    return a += b;\n",
    "} \n",
    "\n",
    "mycomplex operator-(mycomplex a, mycomplex b){\n",
    "    return a -= b;\n",
    "} \n",
    "\n",
    "mycomplex operator*(mycomplex a, mycomplex b){\n",
    "    return a *= b;\n",
    "} \n",
    "\n",
    "mycomplex operator/(mycomplex a, mycomplex b){\n",
    "    return a /= b;\n",
    "} \n",
    "\n",
    "mycomplex operator-(mycomplex a){\n",
    "    mycomplex z{-a.real(),-a.imag0()};\n",
    "    return z;\n",
    "} \n",
    "\n",
    "bool operator==(mycomplex a, mycomplex b){\n",
    "    return a.real()== b.real() && a.imag0()== b.imag0();\n",
    "} \n",
    "   \n",
    "bool operator!=(mycomplex a, mycomplex b){\n",
    "    return !(a==b);\n",
    "}"
   ]
  },
  {
   "cell_type": "markdown",
   "metadata": {},
   "source": [
    "**Implementing the abs with the help of cmath sqrt  using the formular |z| = x²+y²**"
   ]
  },
  {
   "cell_type": "code",
   "execution_count": 4,
   "metadata": {},
   "outputs": [],
   "source": [
    "mycomplex abs(mycomplex z){\n",
    "    double re = sqrt((z.real()*z.real()));\n",
    "    double im = sqrt((z.imag0()*z.imag0()));\n",
    "    return {re,im};\n",
    "}"
   ]
  },
  {
   "cell_type": "markdown",
   "metadata": {},
   "source": [
    "**Implemtation of complex squred using the complex multiplication formular (x+yi)*(u+vi) = (xu-yv)+(xv+yu)i The original complex multiplication was implemented in the class mycomplex using c++ operator keyword**"
   ]
  },
  {
   "cell_type": "code",
   "execution_count": 5,
   "metadata": {},
   "outputs": [],
   "source": [
    "mycomplex squared(mycomplex z){\n",
    "    return z*=z;\n",
    "}"
   ]
  },
  {
   "cell_type": "code",
   "execution_count": 6,
   "metadata": {},
   "outputs": [
    {
     "name": "stderr",
     "output_type": "stream",
     "text": [
      "Not using raw input\n"
     ]
    }
   ],
   "source": [
    ".rawInput"
   ]
  },
  {
   "cell_type": "code",
   "execution_count": 7,
   "metadata": {},
   "outputs": [
    {
     "name": "stderr",
     "output_type": "stream",
     "text": [
      "Using raw input\n"
     ]
    }
   ],
   "source": [
    ".rawInput"
   ]
  },
  {
   "cell_type": "code",
   "execution_count": 8,
   "metadata": {},
   "outputs": [],
   "source": [
    "void f(mycomplex z) {\n",
    "    mycomplex a {2.3};\n",
    "    mycomplex b {1/a};\n",
    "    mycomplex c {a+z*mycomplex{1,2.3}};\n",
    "// ...\n",
    "    if (c != b) c = -(b/a)+2*b;\n",
    "    cout<< \"Real part is \" << c.real() <<  \"  Imaginary Part is \" << c.imag0() << \"i\" << endl;\n",
    "}"
   ]
  },
  {
   "cell_type": "code",
   "execution_count": 9,
   "metadata": {},
   "outputs": [
    {
     "name": "stderr",
     "output_type": "stream",
     "text": [
      "Not using raw input\n"
     ]
    }
   ],
   "source": [
    ".rawInput"
   ]
  },
  {
   "cell_type": "code",
   "execution_count": 10,
   "metadata": {},
   "outputs": [
    {
     "name": "stdout",
     "output_type": "stream",
     "text": [
      "Real part is 0.680529  Imaginary Part is 0i\n"
     ]
    }
   ],
   "source": [
    "f({3,10})"
   ]
  },
  {
   "cell_type": "code",
   "execution_count": 11,
   "metadata": {},
   "outputs": [
    {
     "name": "stdout",
     "output_type": "stream",
     "text": [
      "3+10i\n",
      "2+10i\n",
      "-96+40i\n",
      "-96+40i\n"
     ]
    }
   ],
   "source": [
    "    mycomplex a{3,10};\n",
    "    mycomplex b{2,10};\n",
    "\n",
    "    a.printComplexNumper();\n",
    "    b.printComplexNumper();\n",
    "\n",
    "    mycomplex c = b*b;\n",
    "    mycomplex d = squared(b);\n",
    "\n",
    "    c.printComplexNumper();\n",
    "    d.printComplexNumper();"
   ]
  }
 ],
 "metadata": {
  "kernelspec": {
   "display_name": "C++17",
   "language": "C++17",
   "name": "xeus-cling-cpp17"
  },
  "language_info": {
   "codemirror_mode": "text/x-c++src",
   "file_extension": ".cpp",
   "mimetype": "text/x-c++src",
   "name": "c++",
   "version": "-std=c++17"
  }
 },
 "nbformat": 4,
 "nbformat_minor": 2
}
